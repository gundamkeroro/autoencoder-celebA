{
 "cells": [
  {
   "cell_type": "code",
   "execution_count": 47,
   "metadata": {
    "collapsed": false
   },
   "outputs": [],
   "source": [
    "%matplotlib inline\n",
    "import numpy as np\n",
    "import matplotlib.pyplot as plt\n",
    "import matplotlib.image as mpimg\n",
    "import random \n",
    "import os.path"
   ]
  },
  {
   "cell_type": "code",
   "execution_count": 53,
   "metadata": {
    "collapsed": true
   },
   "outputs": [],
   "source": [
    "def sineimg(img, color='black', linewidth=2.0, linestyle=\"-\"):\n",
    "    '''\n",
    "    line_space = randint(125, 145)\n",
    "    frequency = X / random.uniform(10.0, 50.0)\n",
    "    amplitude = randint(25, 75)\n",
    "    phase = random.uniform(0, pi)\n",
    "    rotation = random.uniform(0, pi / 2)\n",
    "    '''\n",
    "    rot = random.randint(-90, 90)\n",
    "    x_ = img.shape[0] / np.cos(np.pi * rot / 180)\n",
    "    X = np.linspace(-1 * x_, x_, 800)\n",
    "    axes = plt.subplot(111)\n",
    "    np.cos(np.pi * rot / 180)\n",
    "    amp1 = random.randint(35, 50)\n",
    "    amp2 = random.randint(35, 50)\n",
    "    frequency1 = X / random.uniform(5.0, 16.0)\n",
    "    frequency2 = X / random.uniform(5.0, 15.0)\n",
    "    shift = np.pi / random.uniform(1.0, 8.0)\n",
    "    phase1 = np.pi / random.uniform(1.0, 16.0) + shift\n",
    "    phase2 = np.pi / random.uniform(1.0, 16.0) + shift + np.pi / random.uniform(2.0, 4.0)\n",
    "    distance = random.randint(90, 115)\n",
    "    for i in range(8):\n",
    "        Y1 = amp1 * np.sin(frequency1 + phase1) - 450 + i * distance\n",
    "        Y2 = amp2 * np.sin(frequency2 + phase2) - 420 + i * distance\n",
    "        x1_trans = X * np.cos(np.pi * rot / 180) - Y1* np.sin(np.pi * rot / 180)\n",
    "        y1_trans = X * np.sin(np.pi * rot / 180) + Y1* np.cos(np.pi * rot / 180)\n",
    "        x2_trans = X * np.cos(np.pi * rot / 180) - Y2* np.sin(np.pi * rot / 180)\n",
    "        y2_trans = X * np.sin(np.pi * rot / 180) + Y2* np.cos(np.pi * rot / 180)\n",
    "        axes.set_xticks([])\n",
    "        axes.set_yticks([])\n",
    "        axes.spines['right'].set_color('none')\n",
    "        axes.spines['top'].set_color('none')\n",
    "        axes.spines['bottom'].set_color('none')\n",
    "        axes.spines['left'].set_color('none')\n",
    "\n",
    "        axes.plot(x1_trans, y1_trans, color = color, linewidth=linewidth, linestyle=linestyle)\n",
    "        axes.plot(x2_trans, y2_trans, color = color, linewidth=linewidth, linestyle=linestyle)\n",
    "    \n",
    "    plt.imshow(img, zorder=0, extent=[-89, 89, -109, 109])\n",
    "    plt.savefig('/Users/fengxinlin/code/Python/projects/data/stripes/' + name + \"_.jpg\", bbox_inches='tight', pad_inches=0)\n",
    "    plt.close()"
   ]
  },
  {
   "cell_type": "code",
   "execution_count": 54,
   "metadata": {
    "collapsed": false
   },
   "outputs": [],
   "source": [
    "import glob\n",
    "for imgpath in glob.glob(\"/Users/fengxinlin/code/Python/projects/data/img_align_celeba/*.jpg\")[:5000]:\n",
    "    name = imgpath.split('/')[-1].split('.')[0]\n",
    "    img= mpimg.imread(imgpath)\n",
    "    sineimg(img)\n",
    "    "
   ]
  },
  {
   "cell_type": "code",
   "execution_count": 58,
   "metadata": {
    "collapsed": false
   },
   "outputs": [],
   "source": [
    "import glob\n",
    "for imgpath in glob.glob(\"/Users/fengxinlin/code/Python/projects/data/img_align_celeba/*.jpg\")[:5000]:\n",
    "    name = imgpath.split('/')[-1].split('.')[0]\n",
    "    img= mpimg.imread(imgpath)\n",
    "    axes = plt.subplot(111)\n",
    "    axes.set_xticks([])\n",
    "    axes.set_yticks([])\n",
    "    axes.spines['right'].set_color('none')\n",
    "    axes.spines['top'].set_color('none')\n",
    "    axes.spines['bottom'].set_color('none')\n",
    "    axes.spines['left'].set_color('none')\n",
    "    plt.imshow(img, zorder=0, extent=[-89, 89, -109, 109])\n",
    "    plt.savefig('/Users/fengxinlin/code/Python/projects/data/without_stripes/' + name + \"_.jpg\", bbox_inches='tight', pad_inches=0)\n",
    "    plt.close()"
   ]
  },
  {
   "cell_type": "code",
   "execution_count": null,
   "metadata": {
    "collapsed": true
   },
   "outputs": [],
   "source": []
  }
 ],
 "metadata": {
  "kernelspec": {
   "display_name": "Python 3",
   "language": "python",
   "name": "python3"
  },
  "language_info": {
   "codemirror_mode": {
    "name": "ipython",
    "version": 3
   },
   "file_extension": ".py",
   "mimetype": "text/x-python",
   "name": "python",
   "nbconvert_exporter": "python",
   "pygments_lexer": "ipython3",
   "version": "3.6.0"
  }
 },
 "nbformat": 4,
 "nbformat_minor": 2
}
